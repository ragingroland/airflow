{
 "cells": [
  {
   "cell_type": "code",
   "execution_count": 41,
   "metadata": {},
   "outputs": [
    {
     "name": "stdout",
     "output_type": "stream",
     "text": [
      "  alpha_two_code        country                        domains  \\\n",
      "0             FR         France             [insa-toulouse.fr]   \n",
      "1             IN          India                [davietjal.org]   \n",
      "2             US  United States                  [digipen.edu]   \n",
      "3             US  United States                  [scripps.edu]   \n",
      "4             US  United States  [itt-tech.info, itt-tech.edu]   \n",
      "\n",
      "                                                name state-province  \\\n",
      "0  National Institute of Applied Sciences of Toul...           null   \n",
      "1          DAV Institute of Engineering & Technology         Punjab   \n",
      "2                    DigiPen Institute of Technology           null   \n",
      "3                     The Scripps Research Institute           null   \n",
      "4                            ITT Technical Institute           null   \n",
      "\n",
      "                     web_pages  \n",
      "0   [https://insa-toulouse.fr]  \n",
      "1  [http://www.davietjal.org/]  \n",
      "2   [https://www.digipen.edu/]  \n",
      "3       [https://scripps.edu/]  \n",
      "4      [http://itt-tech.info/]  \n"
     ]
    }
   ],
   "source": [
    "import pandas as pd\n",
    "\n",
    "\n",
    "uni_data = [{\"alpha_two_code\":\"FR\",\"country\":\"France\",\"domains\":[\"insa-toulouse.fr\"],\"name\":\"National Institute of Applied Sciences of Toulouse\",\"state-province\":'null',\"web_pages\":[\"https://insa-toulouse.fr\"]},{\"alpha_two_code\":\"IN\",\"country\":\"India\",\"domains\":[\"davietjal.org\"],\"name\":\"DAV Institute of Engineering & Technology\",\"state-province\":\"Punjab\",\"web_pages\":[\"http://www.davietjal.org/\"]},{\"alpha_two_code\":\"US\",\"country\":\"United States\",\"domains\":[\"digipen.edu\"],\"name\":\"DigiPen Institute of Technology\",\"state-province\":'null',\"web_pages\":[\"https://www.digipen.edu/\"]},{\"alpha_two_code\":\"US\",\"country\":\"United States\",\"domains\":[\"scripps.edu\"],\"name\":\"The Scripps Research Institute\",\"state-province\":'null',\"web_pages\":[\"https://scripps.edu/\"]},{\"alpha_two_code\":\"US\",\"country\":\"United States\",\"domains\":[\"itt-tech.info\",\"itt-tech.edu\"],\"name\":\"ITT Technical Institute\",\"state-province\":'null',\"web_pages\":[\"http://itt-tech.info/\"]}]\n",
    "\n",
    "pd_data = pd.DataFrame(uni_data)\n",
    "print(pd_data)"
   ]
  },
  {
   "cell_type": "code",
   "execution_count": 43,
   "metadata": {},
   "outputs": [
    {
     "name": "stdout",
     "output_type": "stream",
     "text": [
      "         country                                               name  \\\n",
      "0         France  National Institute of Applied Sciences of Toul...   \n",
      "1          India          DAV Institute of Engineering & Technology   \n",
      "2  United States                    DigiPen Institute of Technology   \n",
      "3  United States                     The Scripps Research Institute   \n",
      "4  United States                            ITT Technical Institute   \n",
      "\n",
      "  state-province  \n",
      "0                 \n",
      "1         Punjab  \n",
      "2                 \n",
      "3                 \n",
      "4                 \n"
     ]
    }
   ],
   "source": [
    "for key, value in pd_data.items():\n",
    "    if key == 'domains' or key == 'web_pages' or key == 'alpha_two_code':\n",
    "        pd_data = pd_data.drop([key], axis=1)\n",
    "pd_data = pd_data.replace('null', '')\n",
    "print(pd_data)"
   ]
  },
  {
   "cell_type": "code",
   "execution_count": 2,
   "metadata": {},
   "outputs": [],
   "source": [
    "import requests\n",
    "import pandas as pd\n",
    "\n",
    "pd_data = pd.DataFrame()\n",
    "responce = requests.get('http://universities.hipolabs.com/search')\n",
    "responce = responce.json()\n",
    "pd_data = pd.DataFrame(responce)\n",
    "\n",
    "for key, value in pd_data.items():\n",
    "    if key == 'domains' or key == 'web_pages':\n",
    "        pd_data = pd_data.drop([key], axis=1)\n",
    "\n",
    "pd_data['uni_type'] = pd_data['name']\n",
    "for index, row in pd_data.iterrows():\n",
    "    if 'College' in row['name']:\n",
    "        pd_data.at[index, 'uni_type'] = 'College'\n",
    "    elif 'Univer' in row['name']:\n",
    "        pd_data.at[index, 'uni_type'] = 'University'\n",
    "    elif 'Institute' in row['name']:\n",
    "        pd_data.at[index, 'uni_type'] = 'Institute'\n",
    "    else:\n",
    "        pd_data.at[index, 'uni_type'] = ''\n",
    "\n",
    "pd_data = pd_data.rename(columns = {'state-province':'state_province'})\n",
    "\n",
    "pd_data.to_csv('out.csv')"
   ]
  },
  {
   "cell_type": "code",
   "execution_count": 91,
   "metadata": {},
   "outputs": [],
   "source": [
    "for index, row in pd_data.iterrows():\n",
    "    if 'College' in row['name']:\n",
    "        pd_data.at[index, 'uni_type'] = 'College'\n",
    "    elif 'Univer' in row['name']:\n",
    "        pd_data.at[index, 'uni_type'] = 'University'\n",
    "    elif 'Institute' in row['name']:\n",
    "        pd_data.at[index, 'uni_type'] = 'Institute'\n",
    "    else:\n",
    "        pd_data.at[index, 'uni_type'] = ''\n",
    "        "
   ]
  }
 ],
 "metadata": {
  "kernelspec": {
   "display_name": "Python 3",
   "language": "python",
   "name": "python3"
  },
  "language_info": {
   "codemirror_mode": {
    "name": "ipython",
    "version": 3
   },
   "file_extension": ".py",
   "mimetype": "text/x-python",
   "name": "python",
   "nbconvert_exporter": "python",
   "pygments_lexer": "ipython3",
   "version": "3.12.3"
  }
 },
 "nbformat": 4,
 "nbformat_minor": 2
}
